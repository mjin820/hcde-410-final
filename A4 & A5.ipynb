{
 "cells": [
  {
   "cell_type": "markdown",
   "id": "c8d31d2e-e012-4ba8-97a3-e3bd3c7954e6",
   "metadata": {},
   "source": [
    "# Overview/Motivation and Problem Statement\n",
    "\n",
    "The COVID-19 pandemic significantly impacted daily lives across the U.S., leading to changes in how people spent their leisure time. Due to serious quarantine measures, streaming services were often a popular entertainment source to pass time and I am interested in understanding the influence of a global crisis on media consumption. This study aims to explore the correlation between COVID-19 case trends and streaming service usage by examining data from before, during, and after the pandemic. \n",
    "\n",
    "\r\n",
    "When exploring this topic, it is interesting from a scientific perspective because it can potentially provide insights regarding extensive isolation on content/media consumption, which can help understand social behaviors during global crises. From a practical or real-world perspective, it can be useful for exploring economic impacts if I study datasets that also focus on subscription uptake patterns. Finally, this analysis is interesting from a human-centered perspective because it reveals how people coped with isolation through streaming services during this heightended period of uncertainty."
   ]
  },
  {
   "cell_type": "markdown",
   "id": "0b4c3e48-8f26-42b4-ade3-12b9ec68110f",
   "metadata": {},
   "source": [
    "# Research Questions\n",
    "\n",
    "* Were there any significant changes in user spending or pricing on streaming services during various waves of the COVID-19 pandemic in the U.S. (specifically between the peak years of 2020 to 2023)?\n",
    "* How did the number of COVID-19 cases influence streaming service subscriptions over time in the U.S.?\n",
    "* How did streaming service growth differ in the pre-pandemic, peak-pandemic, and post-pandemic years in the U.S.?"
   ]
  },
  {
   "cell_type": "markdown",
   "id": "b8284593-5d52-4d43-9a4c-c11297a10b88",
   "metadata": {},
   "source": [
    "# Background and Related Work\n",
    "\n",
    "As strict quarantine measures were implemented in the early to mid-stages of the COVID-19 pandemic, a great deal of research emerged on how people spent their time during this period of limited activities. I came across an article from Forbes titled [Post-Pandemic Media Consumption: Online Streaming Accelerates A New Content Experience](https://www.forbes.com/sites/forrester/2021/06/28/post-pandemic-media-consumption-online-streaming-accelerates-a-new-content-experience/). The article highlights that by June 2020, 48% of U.S. adults had subscribed to at least one video streaming service. Based on this data, they presented several hypotheses about what would unfold over the next 12-18 months. One such hypothesis was that heavy TV/video consumption would continue for most U.S. consumers, even if they sought new forms of entertainment. Forbes also claimed that 42% would continue using TV/video as a way to escape 'real-world stressors'. \n",
    "\n",
    "Another study I looked at focuses on data from Deloitte in this article: [Streaming-Video Subscriptions Have Risen During COVID-19 — but So Has ‘Subscription Fatigue,’ Study Finds](https://variety.com/2020/digital/news/streaming-video-subscriptions-churn-covid-19-deloitte-1234642672/). Due to the economic impacts of the pandemic, many households were struggling to balance subscription costs, leading to increased cancellations and use of free, ad-supported streaming options. According to Deloitte, the top two reasons for cancellations were high costs (36% of users) and expiring discounts or termination of free trials (35% of users). \n",
    "\n",
    "Since many of these studies were conducted during the pandemic and made predictions about the post-pandemic period, I am interested in exploring datasets that span a broader timeline -- before, during, and after the pandemic. Building on the two studies mentioned above, my research questions focus on whether the current data supports or refutes Forbes' hypothesis and whether there truly was Subscription Video On Demand (SVOD) churn or subscription fatigue following the pandemic's peak years. Additionally, I noticed conflicting findings regarding streaming service usage and subscriptions, which sparked my interest in examining how subscription trends evolved over time, particularly in relation to the pandemic's different phases."
   ]
  },
  {
   "cell_type": "markdown",
   "id": "40b94fec-9f37-4bf4-9867-61daf736369c",
   "metadata": {},
   "source": [
    "# Methodology\n",
    "\n",
    "* With the datasets I plan to use (the COVID-19 case repository and datasets for streaming service subscriptions), I need to ensure that the time periods match in terms of week, month, year, etc., and take out any missing or inconsistent data points. \n",
    "* The analytical methods that I intend to use to answer my research questions are correlation and regression analysis. In order to complete the correlation analysis, I will plot COVID-19 cases versus subscription counts to see if there is a general trend across various streaming services (e.g., Netflix, Hulu, Disney+). For example, this will provide more insights to determine if higher case numbers led to more subscriptions. Then, correlation analysis will be used to check if there is any relationship between the two factors and if there is, the strength of the correlation. During this process, it is important to keep in mind that correlation does not mean that one factor causes another, but rather I am doing this to examine potential relationships. I will attempt to carry out this step using Python with the pandas library for a correlation coefficient. The regression analysis portion will be completed to help me understand how much subscriptions will change based on COVID-19 cases. I plan to use Python to perform this analysis as well. There are a few libraries that can be used to find the coefficient which explains how much subscriptions increase or decrease for each new COVID-19 case. I decided to ask ChatGPT regarding advice for the regression analysis and it introduced a library called scikit-learn.\n",
    "* Since I will be using correlation and regression analysis, I will mainly be describing the coefficients and explaining what they mean in terms of the relationships between COVID-19 cases and streaming service subscriptions. However, I will also include scatterplots with a line of best fit to see the trend visually, and possibly a time series graph towards the beginning of the process to get a better understanding of potential patterns. For now, the plan is to look into at least three different streaming services, w\n",
    "* The methods I chose to analyze and present my data are useful because I am most interested in finding special relationships between COVID-19 cases and streaming service usage over various time periods. Using correlation and regression analysis will help me identify the strength of COVID-19 cases' influence, and just how much of an effect they have on the performance of major streaming services."
   ]
  },
  {
   "cell_type": "markdown",
   "id": "09c4d504-d0e5-46c0-a7ea-6999f7234c7c",
   "metadata": {},
   "source": [
    "# Data Selected for Analysis\n",
    "\n",
    "While there is a possibility that I may review more datasets as I progress with my project, these are the ones that I plan to use for now:\n",
    "* [COVID-19 Data Repository by the Center for Systems Science and Engineering (CSSE) at Johns Hopkins University](https://github.com/CSSEGISandData/COVID-19) and more specifically, for U.S. cases: [JHU CSSE COVID-19 Dataset](https://github.com/CSSEGISandData/COVID-19/blob/master/csse_covid_19_data/csse_covid_19_daily_reports_us/01-03-2021.csv)\n",
    "    * This is a repository from the Center for Systems Science and Engineering at Johns Hopkins University including datasets with COVID-19 daily reports at the national, global, and regional scales. These reports include statistics such as confirmed cases, deaths, recoveries, and incident rates, providing time-series data for monthly and yearly intervals which capture the pandemic's impact and spread.\n",
    "  \n",
    "    * Terms of Use:\n",
    "        * This data set is licensed under the Creative Commons Attribution 4.0 International (CC BY 4.0) by the Johns Hopkins University on behalf of its Center for Systems Science in Engineering. Copyright Johns Hopkins University 2020.\n",
    "        * Attribute the data as the \"COVID-19 Data Repository by the Center for Systems Science and Engineering (CSSE) at Johns Hopkins University\" or \"JHU CSSE COVID-19 Data\" for short, and the url: https://github.com/CSSEGISandData/COVID-19.\n",
    "        * For publications that use the data, please cite the following publication: \"Dong E, Du H, Gardner L. An interactive web-based dashboard to track COVID-19 in real time. Lancet Inf Dis. 20(5):533-534. doi: 10.1016/S1473-3099(20)30120-1\"        \n",
    "\n",
    "    * This dataset is suitable for my research goals because it covers general COVID-19 information for the U.S. population during the peak years (2020-2023), which I need to compare with the streaming service datasets I will be using as well. It includes individual data for all states across several years, which is beneficial for finding correlations that are time-specific to the early and later stages of COVID's spread.\n",
    "    * An ethical concern to consider when using this dataset is that, since it invovles health data, there is a level of sensitivity associated with it. Consequentially, it is important to abide by the terms of use to ensure responsible handling of the data. However, the data in these sets have been coded to respect anonymity.\n",
    "\n",
    "---\n",
    "  \n",
    "* [Streaming Video Subscriptions Datasets](https://www.kaggle.com/datasets/keremkarayaz/streaming-video-subscriptions-datasets)\n",
    "    * This dataset includes information regarding streaming service subscription metrics such as subscription count, creation dates, cancellation dates, costs, and intervals (billing frequency) mainly across the years 2022 to 2023. \n",
    "    * License:\n",
    "        * [Apache 2.0](https://www.apache.org/licenses/LICENSE-2.0)\n",
    "    *  This dataset is suitable for my research goals because it covers the information I will need for correlating the COVID-19 repository's data above to data referring to streaming service usage. Since it includes metrics such as creation and cancellation dates, I can gauge when users started to subscribe and use platforms and also examine when they made cancellations to determine if media consumption reached a high point and then decreased.\n",
    "    *  An ethical concern to consider when using this dataset is to be attentive to biases because it could be possible to have either over or underrepresented certain demographic groups. Another general concern I have is that the dataset seems to be very broad, so I will continue to look for more streaming service datasets that focus on specific US states or regions as well.  is dataset\n",
    " \n",
    "---\n",
    "\n",
    "* [OTT, Video Streaming Platforms - Revenue and Users](https://www.kaggle.com/datasets/azminetoushikwasi/ott-video-streaming-platforms-revenue-and-users/data)\n",
    "    * This dataset contains revenue and user statistics from Over the Top (OTT) and video streaming platforms for the years 2011 to 2021. Over the Top refers to any TV or video content that is streamed over the internet including streaming services  such as Netflix, YouTube, Disney+, etc. There are several folders pertaining to individual streaming services, and within each of them include various datasets such as subscriber count, revenue, and profit.\n",
    "    * License:\n",
    "        * [CC0: Public Domain](https://creativecommons.org/publicdomain/zero/1.0/)\n",
    "    * This site provides several datasets covering categories from a variety of streaming services, making it highly valuable for my research goals. I plan to gain insights from at least three different services, while datasets for eight are available. This also allows me to explore not only subscription counts but other key factors, such as revenue, that influence streaming service performance."
   ]
  },
  {
   "cell_type": "markdown",
   "id": "3bedf3e2-d7e4-4bfc-af7d-edc6e3cbb47c",
   "metadata": {},
   "source": [
    "# Unknowns and Dependencies\n",
    "\n",
    "Some factors outside of my control that might impact my ability to complete this project by the end of the quarter are data availability and technical challenges/difficulties. Just for this preliminary proposal alone, I was having some difficulty finding a dataset for streaming service usage that aligns with what I am looking for (e.g. data that is more specific to various states in the U.S.). Along the way, I am worried that there might be situations where the datasets that I planned to work with are not as useful as expected or there turns out to be inconsistencies or incomplete sections. Technical challenges or difficulties can also arise if I try to run some code for the analysis or either importing or exporting files to my Jupyter Notebook. Sometimes, these issues can take some time to resolve, but I will take initiative and reach out for help as needed."
   ]
  },
  {
   "cell_type": "markdown",
   "id": "71bd5a0f-651e-4490-9510-809aed009750",
   "metadata": {},
   "source": [
    "**Feedback from Peer**\n",
    "\n",
    "Rather than feedback, I received help with deciding on a topic for this preliminary proposal from my peer. She was interested in correlating data from COVID-19 case trends with video game sales, so we discussed and brainstormed other ideas related to the pandemic. I recalled Netflix's surge in popularity during that period, which led us to search for datasets related to streaming services, including subscriptions and sales."
   ]
  }
 ],
 "metadata": {
  "kernelspec": {
   "display_name": "Python 3 (ipykernel)",
   "language": "python",
   "name": "python3"
  },
  "language_info": {
   "codemirror_mode": {
    "name": "ipython",
    "version": 3
   },
   "file_extension": ".py",
   "mimetype": "text/x-python",
   "name": "python",
   "nbconvert_exporter": "python",
   "pygments_lexer": "ipython3",
   "version": "3.10.13"
  }
 },
 "nbformat": 4,
 "nbformat_minor": 5
}
