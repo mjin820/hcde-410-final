{
 "cells": [
  {
   "cell_type": "markdown",
   "id": "84bfbd06-72e5-45c5-af84-1c67dba9ae51",
   "metadata": {},
   "source": [
    "# Scientific Abstract\n",
    "\n",
    "FILLER (ENTER SOON)"
   ]
  },
  {
   "cell_type": "markdown",
   "id": "c8d31d2e-e012-4ba8-97a3-e3bd3c7954e6",
   "metadata": {},
   "source": [
    "# Overview/Motivation and Problem Statement\n",
    "\n",
    "The COVID-19 pandemic significantly impacted daily lives all around the world leading to changes in how people spent their leisure time. Due to serious quarantine measures, streaming services were often a popular entertainment source to pass time and I am interested in understanding the influence of a global crisis on media consumption. This study aims to explore the correlation between COVID-19 case trends and streaming service usage by examining data from before, during, and after the pandemic. \n",
    "\n",
    "\r\n",
    "When exploring this topic, it is interesting from a scientific perspective because it can potentially provide insights regarding extensive isolation on content/media consumption, which can help understand social behaviors during global crises. From a practical or real-world perspective, it can be useful for exploring economic impacts if I study datasets that also focus on subscription uptake patterns. Finally, this analysis is interesting from a human-centered perspective because it reveals how people coped with isolation through streaming services during this heightended period of uncertainy."
   ]
  },
  {
   "cell_type": "markdown",
   "id": "0b4c3e48-8f26-42b4-ade3-12b9ec68110f",
   "metadata": {
    "jp-MarkdownHeadingCollapsed": true
   },
   "source": [
    "# Research Questions\n",
    "\n",
    "* Were there any significant changes in user spending or pricing on streaming services during various waves of the COVID-19 pandemic in the U.S. (specifically between the peak years of 2020 to 2023)?\n",
    "* How did the number of COVID-19 cases influence streaming service subscriptions over time in the U.S.?\n",
    "* How did streaming service growth differ in the pre-pandemic, peak-pandemic, and post-pandemic years in the U.S.?"
   ]
  },
  {
   "cell_type": "markdown",
   "id": "b8284593-5d52-4d43-9a4c-c11297a10b88",
   "metadata": {},
   "source": [
    "# Background and Related Work\n",
    "\n",
    "As strict quarantine measures were implemented in the early to mid-stages of the COVID-19 pandemic, a great deal of research emerged on how people spent their time during this period of limited activities. I came across an article from Forbes titled [Post-Pandemic Media Consumption: Online Streaming Accelerates A New Content Experience](https://www.forbes.com/sites/forrester/2021/06/28/post-pandemic-media-consumption-online-streaming-accelerates-a-new-content-experience/). The article highlights that by June 2020, 48% of U.S. adults had subscribed to at least one video streaming service. Based on this data, they presented several hypotheses about what would unfold over the next 12-18 months. One such hypothesis was that heavy TV/video consumption would continue for most U.S. consumers, even if they sought new forms of entertainment. Forbes also claimed that 42% would continue using TV/video as a way to escape 'real-world stressors'. \n",
    "\n",
    "Another study I looked at focuses on data from Deloitte in this article: [Streaming-Video Subscriptions Have Risen During COVID-19 — but So Has ‘Subscription Fatigue,’ Study Finds](https://variety.com/2020/digital/news/streaming-video-subscriptions-churn-covid-19-deloitte-1234642672/). Due to the economic impacts of the pandemic, many households were struggling to balance subscription costs, leading to increased cancellations and use of free, ad-supported streaming options. According to Deloitte, the top two reasons for cancellations were high costs (36% of users) and expiring discounts or termination of free trials (35% of users). \n",
    "\n",
    "Since many of these studies were conducted during the pandemic and made predictions about the post-pandemic period, I am interested in exploring datasets that span a broader timeline -- before, during, and after the pandemic. Building on the two studies mentioned above, my research questions focus on whether the current data supports or refutes Forbes' hypothesis and whether there truly was Subscription Video On Demand (SVOD) churn or subscription fatigue following the pandemic's peak years. Additionally, I noticed conflicting findings regarding streaming service usage and subscriptions, which sparked my interest in examining how subscription trends evolved over time, particularly in relation to the pandemic's different phases."
   ]
  },
  {
   "cell_type": "markdown",
   "id": "40b94fec-9f37-4bf4-9867-61daf736369c",
   "metadata": {},
   "source": [
    "# Methodology\n",
    "\n",
    "* With the datasets I plan to use (the COVID-19 case repository and datasets for streaming service subscriptions), I need to ensure that the time periods match in terms of week, month, year, etc., and take out any missing or inconsistent data points. \n",
    "* The analytical methods that I intend to use to answer my research questions are correlation and regression analysis. In order to complete the correlation analysis, I will plot COVID-19 cases versus subscription counts to see if there is a general trend across various streaming services (e.g., Netflix, Hulu, Disney+). For example, this will provide more insights to determine if higher case numbers led to more subscriptions. Then, correlation analysis will be used to check if there is any relationship between the two factors and if there is, the strength of the correlation. During this process, it is important to keep in mind that correlation does not mean that one factor causes another, but rather I am doing this to examine potential relationships. I will attempt to carry out this step using Python with the pandas library for a correlation coefficient. The regression analysis portion will be completed to help me understand how much subscriptions will change based on COVID-19 cases. I plan to use Python to perform this analysis as well. There are a few libraries that can be used to find the coefficient which explains how much subscriptions increase or decrease for each new COVID-19 case. I decided to ask ChatGPT regarding advice for the regression analysis and it introduced a library called scikit-learn.\n",
    "* Since I will be using correlation and regression analysis, I will mainly be describing the coefficients and explaining what they mean in terms of the relationships between COVID-19 cases and streaming service subscriptions. However, I will also include scatterplots with a line of best fit to see the trend visually, and possibly a time series graph towards the beginning of the process to get a better understanding of potential patterns. For now, the plan is to look into at least three different streaming services, which means I will conduct analyses for each of them.\n",
    "* The methods I chose to analyze and present my data are useful because I am most interested in finding special relationships between COVID-19 cases and streaming service usage over various time periods. Using correlation and regression analysis will help me identify the strength of COVID-19 cases' influence, and just how much of an effect they have on the performance of major streaming services."
   ]
  },
  {
   "cell_type": "markdown",
   "id": "09c4d504-d0e5-46c0-a7ea-6999f7234c7c",
   "metadata": {},
   "source": [
    "# Data Selected for Analysis\n",
    "\n",
    "While there is a possibility that I may review more datasets as I progress with my project, these are the ones that I plan to use for now:\n",
    "* [COVID-19 Data Repository by the Center for Systems Science and Engineering (CSSE) at Johns Hopkins University](https://github.com/CSSEGISandData/COVID-19) and more specifically, for U.S. cases: [JHU CSSE COVID-19 Dataset](https://github.com/CSSEGISandData/COVID-19/blob/master/csse_covid_19_data/csse_covid_19_daily_reports_us/01-03-2021.csv)\n",
    "    * This is a repository from the Center for Systems Science and Engineering at Johns Hopkins University including datasets with COVID-19 daily reports at the national, global, and regional scales. These reports include statistics such as confirmed cases, deaths, recoveries, and incident rates, providing time-series data for monthly and yearly intervals which capture the pandemic's impact and spread.\n",
    "  \n",
    "    * Terms of Use:\n",
    "        * This data set is licensed under the Creative Commons Attribution 4.0 International (CC BY 4.0) by the Johns Hopkins University on behalf of its Center for Systems Science in Engineering. Copyright Johns Hopkins University 2020.\n",
    "        * Attribute the data as the \"COVID-19 Data Repository by the Center for Systems Science and Engineering (CSSE) at Johns Hopkins University\" or \"JHU CSSE COVID-19 Data\" for short, and the url: https://github.com/CSSEGISandData/COVID-19.\n",
    "        * For publications that use the data, please cite the following publication: \"Dong E, Du H, Gardner L. An interactive web-based dashboard to track COVID-19 in real time. Lancet Inf Dis. 20(5):533-534. doi: 10.1016/S1473-3099(20)30120-1\"        \n",
    "\n",
    "    * This dataset is suitable for my research goals because it covers general COVID-19 information for the U.S. population during the peak years (2020-2023), which I need to compare with the streaming service datasets I will be using as well. It includes individual data for all states across several years, which is beneficial for finding correlations that are time-specific to the early and later stages of COVID's spread.\n",
    "    * An ethical concern to consider when using this dataset is that, since it invovles health data, there is a level of sensitivity associated with it. Consequentially, it is important to abide by the terms of use to ensure responsible handling of the data. However, the data in these sets have been coded to respect anonymity.\n",
    "\n",
    "---\n",
    "  \n",
    "* [Streaming Video Subscriptions Datasets](https://www.kaggle.com/datasets/keremkarayaz/streaming-video-subscriptions-datasets)\n",
    "    * This dataset includes information regarding streaming service subscription metrics such as subscription count, creation dates, cancellation dates, costs, and intervals (billing frequency) mainly across the years 2022 to 2023. \n",
    "    * License:\n",
    "        * [Apache 2.0](https://www.apache.org/licenses/LICENSE-2.0)\n",
    "    *  This dataset is suitable for my research goals because it covers the information I will need for correlating the COVID-19 repository's data above to data referring to streaming service usage. Since it includes metrics such as creation and cancellation dates, I can gauge when users started to subscribe and use platforms and also examine when they made cancellations to determine if media consumption reached a high point and then decreased.\n",
    "    *  An ethical concern to consider when using this dataset is to be attentive to biases because it could be possible to have either over or underrepresented certain demographic groups. Another general concern I have is that the dataset seems to be very broad, so I will continue to look for more streaming service datasets that focus on specific US states or regions as well.  is dataset\n",
    " \n",
    "---\n",
    "\n",
    "* [OTT, Video Streaming Platforms - Revenue and Users](https://www.kaggle.com/datasets/azminetoushikwasi/ott-video-streaming-platforms-revenue-and-users/data)\n",
    "    * This dataset contains revenue and user statistics from Over the Top (OTT) and video streaming platforms for the years 2011 to 2021. Over the Top refers to any TV or video content that is streamed over the internet including streaming services  such as Netflix, YouTube, Disney+, etc. There are several folders pertaining to individual streaming services, and within each of them include various datasets such as subscriber count, revenue, and profit.\n",
    "    * License:\n",
    "        * [CC0: Public Domain](https://creativecommons.org/publicdomain/zero/1.0/)\n",
    "    * This site provides several datasets covering categories from a variety of streaming services, making it highly valuable for my research goals. I plan to gain insights from at least three different services, while datasets for eight are available. This also allows me to explore not only subscription counts but other key factors, such as revenue, that influence streaming service performance."
   ]
  },
  {
   "cell_type": "markdown",
   "id": "3bedf3e2-d7e4-4bfc-af7d-edc6e3cbb47c",
   "metadata": {},
   "source": [
    "# Unknowns and Dependencies\n",
    "\n",
    "Some factors outside of my control that might impact my ability to complete this project by the end of the quarter are data availability and technical challenges/difficulties. Just for this preliminary proposal alone, I was having some difficulty finding a dataset for streaming service usage that aligns with what I am looking for (e.g. data that is more specific to various states in the U.S.). Along the way, I am worried that there might be situations where the datasets that I planned to work with are not as useful as expected or there turns out to be inconsistencies or incomplete sections. Technical challenges or difficulties can also arise if I try to run some code for the analysis or either importing or exporting files to my Jupyter Notebook. Sometimes, these issues can take some time to resolve, but I will take initiative and reach out for help as needed."
   ]
  },
  {
   "cell_type": "markdown",
   "id": "71bd5a0f-651e-4490-9510-809aed009750",
   "metadata": {},
   "source": [
    "**Feedback from Peer**\n",
    "\n",
    "Rather than feedback, I received help with deciding on a topic for this preliminary proposal from my peer. She was interested in correlating data from COVID-19 case trends with video game sales, so we discussed and brainstormed other ideas related to the pandemic. I recalled Netflix's surge in popularity during that period, which led us to search for datasets related to streaming services, including subscriptions and sales."
   ]
  },
  {
   "cell_type": "markdown",
   "id": "3ae537b6-5955-4e55-a667-8441d6498a68",
   "metadata": {},
   "source": [
    "# Datasets: Cleaning & Visualizations (Code)"
   ]
  },
  {
   "cell_type": "code",
   "execution_count": 64,
   "id": "9378e7c8-05ac-47fd-bd6f-01bf96bfab25",
   "metadata": {},
   "outputs": [],
   "source": [
    "import pandas as pd\n",
    "import matplotlib.pyplot as plt"
   ]
  },
  {
   "cell_type": "code",
   "execution_count": 65,
   "id": "da58b916-0b72-4687-b56d-56e1679af22d",
   "metadata": {},
   "outputs": [],
   "source": [
    "# Load the dataset\n",
    "df = pd.read_csv('disneyplus_userbase.csv')\n",
    "\n",
    "# Convert date columns to datetime\n",
    "df['Join Date'] = pd.to_datetime(df['Join Date'])\n",
    "df['Last Payment Date'] = pd.to_datetime(df['Last Payment Date'])"
   ]
  },
  {
   "cell_type": "code",
   "execution_count": 66,
   "id": "30880baf-7b47-421e-b004-f621e9aac2e7",
   "metadata": {},
   "outputs": [],
   "source": [
    "# Filter for users who joined in 2021\n",
    "joined_2021 = df[(df['Join Date'] >= '2021-01-01') & (df['Join Date'] <= '2021-12-31')]"
   ]
  },
  {
   "cell_type": "code",
   "execution_count": 68,
   "id": "e249ff37-0fe1-41c7-a3e9-807db6f27087",
   "metadata": {},
   "outputs": [],
   "source": [
    "# Extract the year from the last payment date\n",
    "joined_2021.loc[:, 'Last Payment Year'] = joined_2021['Last Payment Date'].dt.year"
   ]
  },
  {
   "cell_type": "code",
   "execution_count": 69,
   "id": "fa8c52f5-c901-48f7-bb44-0e06d62286f4",
   "metadata": {},
   "outputs": [
    {
     "name": "stdout",
     "output_type": "stream",
     "text": [
      "Last Payment Year\n",
      "2021    20\n",
      "2022    63\n",
      "2023    75\n",
      "2024    22\n",
      "Name: count, dtype: int64\n"
     ]
    }
   ],
   "source": [
    "# Count the number of users for each last payment year\n",
    "payment_counts = joined_2021['Last Payment Year'].value_counts().sort_index()\n",
    "\n",
    "# Ensure all years from 2021 to 2024 are included, even if counts are 0\n",
    "years = [2021, 2022, 2023, 2024]\n",
    "payment_counts = payment_counts.reindex(years, fill_value=0)\n",
    "\n",
    "print(payment_counts)"
   ]
  },
  {
   "cell_type": "code",
   "execution_count": 70,
   "id": "588f4163-e8d2-49f9-a4b5-0fcbb374e945",
   "metadata": {},
   "outputs": [
    {
     "data": {
      "image/png": "[encoded data removed]",
      "text/plain": [
       "<Figure size 640x480 with 1 Axes>"
      ]
     },
     "metadata": {},
     "output_type": "display_data"
    }
   ],
   "source": [
    "# Plot the bar graph\n",
    "plt.bar(payment_counts.index, payment_counts.values, color=['red', 'blue', 'purple', 'green'])\n",
    "plt.title('Last Payment Year for Users Who Joined in 2021')\n",
    "plt.xlabel('Last Payment Year')\n",
    "plt.ylabel('Number of Users')\n",
    "plt.xticks(payment_counts.index)  # Ensure all years are labeled\n",
    "for i, v in enumerate(payment_counts.values):\n",
    "    plt.text(payment_counts.index[i], v + 0.5, str(v), ha='center')\n",
    "plt.show()"
   ]
  },
  {
   "cell_type": "code",
   "execution_count": 71,
   "id": "399a3021-1569-4834-8f4b-1dc9d70e4f9e",
   "metadata": {},
   "outputs": [],
   "source": [
    "# Filter users who joined in 2022 or later (create a copy)\n",
    "joined_2022_and_up = df[df['Join Date'] >= '2022-01-01'].copy()"
   ]
  },
  {
   "cell_type": "code",
   "execution_count": 72,
   "id": "eb404e71-a686-4110-ac69-f301c24a8156",
   "metadata": {},
   "outputs": [],
   "source": [
    "# Extract the year from the last payment date using .loc\n",
    "joined_2022_and_up.loc[:, 'Last Payment Year'] = joined_2022_and_up['Last Payment Date'].dt.year"
   ]
  },
  {
   "cell_type": "code",
   "execution_count": 73,
   "id": "7a248c79-b36f-40da-be36-47fe762c592a",
   "metadata": {},
   "outputs": [],
   "source": [
    "# Count the number of users for each last payment year\n",
    "payment_counts = joined_2022_and_up['Last Payment Year'].value_counts().sort_index()\n",
    "\n",
    "# Ensure all relevant years are included\n",
    "years = [2022, 2023, 2024]\n",
    "payment_counts = payment_counts.reindex(years, fill_value=0)"
   ]
  },
  {
   "cell_type": "code",
   "execution_count": 74,
   "id": "f9379e44-611e-476d-a607-13a1f86f4daa",
   "metadata": {},
   "outputs": [
    {
     "data": {
      "image/png": "[encoded data removed]",
      "text/plain": [
       "<Figure size 640x480 with 1 Axes>"
      ]
     },
     "metadata": {},
     "output_type": "display_data"
    }
   ],
   "source": [
    "# Plot the bar chart\n",
    "plt.bar(payment_counts.index, payment_counts.values, color=['orange', 'green', 'blue'])\n",
    "plt.title('Last Payment Year for Users Who Joined in 2022 and Later')\n",
    "plt.xlabel('Last Payment Year')\n",
    "plt.ylabel('Number of Users')\n",
    "plt.xticks(payment_counts.index)  # Ensure all years are labeled\n",
    "for i, v in enumerate(payment_counts.values):\n",
    "    plt.text(payment_counts.index[i], v + 0.5, str(v), ha='center')\n",
    "plt.show()"
   ]
  },
  {
   "cell_type": "markdown",
   "id": "54eab8d5-5c2d-44ae-b55f-72bcdf4fcf17",
   "metadata": {},
   "source": [
    "BORDER ......."
   ]
  },
  {
   "cell_type": "code",
   "execution_count": 75,
   "id": "9bc6c70c-4690-4444-ab37-26192cf3d8ec",
   "metadata": {},
   "outputs": [],
   "source": [
    "import pandas as pd\n",
    "import matplotlib.pyplot as plt"
   ]
  },
  {
   "cell_type": "code",
   "execution_count": 76,
   "id": "ce70ff07-0cfb-4b22-ae7c-2b815c14e2db",
   "metadata": {},
   "outputs": [
    {
     "name": "stdout",
     "output_type": "stream",
     "text": [
      "   User ID   Join Date Last Payment Date\n",
      "0        1  2023-03-14        2024-03-08\n",
      "1        2  2021-12-17        2023-01-18\n",
      "2        3  2024-04-04        2024-05-28\n",
      "3        4  2022-12-05        2023-11-06\n",
      "4        5  2022-11-24        2023-09-17\n"
     ]
    }
   ],
   "source": [
    "# Load the CSV file\n",
    "df = pd.read_csv('disneyplus_userbase.csv')\n",
    "\n",
    "# Preview the first few rows\n",
    "print(df.head())"
   ]
  },
  {
   "cell_type": "code",
   "execution_count": 77,
   "id": "dbf7f709-4f34-4724-9ba8-f4e34b4c3850",
   "metadata": {},
   "outputs": [
    {
     "name": "stdout",
     "output_type": "stream",
     "text": [
      "User ID                       int64\n",
      "Join Date            datetime64[ns]\n",
      "Last Payment Date    datetime64[ns]\n",
      "dtype: object\n"
     ]
    }
   ],
   "source": [
    "# Convert dates to datetime\n",
    "df['Join Date'] = pd.to_datetime(df['Join Date'])\n",
    "df['Last Payment Date'] = pd.to_datetime(df['Last Payment Date'])\n",
    "\n",
    "# Check the converted columns\n",
    "print(df.dtypes)"
   ]
  },
  {
   "cell_type": "code",
   "execution_count": 78,
   "id": "36f1722b-928b-4665-b096-2edf610c421b",
   "metadata": {},
   "outputs": [
    {
     "name": "stdout",
     "output_type": "stream",
     "text": [
      "   User ID  Join Date Join Month Last Payment Date Last Payment Month\n",
      "0        1 2023-03-14    2023-03        2024-03-08            2024-03\n",
      "1        2 2021-12-17    2021-12        2023-01-18            2023-01\n",
      "2        3 2024-04-04    2024-04        2024-05-28            2024-05\n",
      "3        4 2022-12-05    2022-12        2023-11-06            2023-11\n",
      "4        5 2022-11-24    2022-11        2023-09-17            2023-09\n"
     ]
    }
   ],
   "source": [
    "# Extract the month and year from Join Date and Last Payment Date\n",
    "df['Join Month'] = df['Join Date'].dt.to_period('M')  # Month-year period\n",
    "df['Last Payment Month'] = df['Last Payment Date'].dt.to_period('M')\n",
    "\n",
    "# Preview the updated DataFrame\n",
    "print(df[['User ID', 'Join Date', 'Join Month', 'Last Payment Date', 'Last Payment Month']].head())"
   ]
  },
  {
   "cell_type": "code",
   "execution_count": 79,
   "id": "ff4f6a80-8bc1-4096-966d-0ba7f662e4e7",
   "metadata": {},
   "outputs": [
    {
     "name": "stdout",
     "output_type": "stream",
     "text": [
      "  Join Month  New Subscriptions\n",
      "0    2021-06                 12\n",
      "1    2021-07                 23\n",
      "2    2021-08                 39\n",
      "3    2021-09                 27\n",
      "4    2021-10                 32\n"
     ]
    }
   ],
   "source": [
    "# Group by Join Month\n",
    "monthly_joiners = df.groupby('Join Month').size().reset_index(name='New Subscriptions')\n",
    "\n",
    "# Preview the result\n",
    "print(monthly_joiners.head())"
   ]
  },
  {
   "cell_type": "code",
   "execution_count": 80,
   "id": "c01fcd0d-102c-4b16-b27d-13acd59bc523",
   "metadata": {},
   "outputs": [
    {
     "name": "stdout",
     "output_type": "stream",
     "text": [
      "  Last Payment Month  Active Payments\n",
      "0            2021-08                1\n",
      "1            2021-09                3\n",
      "2            2021-10                3\n",
      "3            2021-11                9\n",
      "4            2021-12                4\n"
     ]
    }
   ],
   "source": [
    "# Group by Last Payment Month\n",
    "monthly_payments = df.groupby('Last Payment Month').size().reset_index(name='Active Payments')\n",
    "\n",
    "# Preview the result\n",
    "print(monthly_payments.head())"
   ]
  },
  {
   "cell_type": "code",
   "execution_count": 81,
   "id": "aaf08e68-836e-42e3-afdd-6a825aa200e1",
   "metadata": {},
   "outputs": [
    {
     "data": {
      "image/png": "[encoded data removed]",
      "text/plain": [
       "<Figure size 640x480 with 1 Axes>"
      ]
     },
     "metadata": {},
     "output_type": "display_data"
    }
   ],
   "source": [
    "# Plot new subscriptions\n",
    "plt.bar(monthly_joiners['Join Month'].astype(str), monthly_joiners['New Subscriptions'], color='blue')\n",
    "plt.title('Monthly New Subscriptions')\n",
    "plt.xlabel('Month')\n",
    "plt.ylabel('Number of New Subscriptions')\n",
    "plt.xticks(rotation=45)\n",
    "plt.show()"
   ]
  },
  {
   "cell_type": "code",
   "execution_count": 82,
   "id": "ab57114f-7b5f-4fae-b89f-89390130860e",
   "metadata": {},
   "outputs": [
    {
     "data": {
      "image/png": "[encoded data removed]",
      "text/plain": [
       "<Figure size 640x480 with 1 Axes>"
      ]
     },
     "metadata": {},
     "output_type": "display_data"
    }
   ],
   "source": [
    "# Plot active payments\n",
    "plt.bar(monthly_payments['Last Payment Month'].astype(str), monthly_payments['Active Payments'], color='green')\n",
    "plt.title('Monthly Active Payments')\n",
    "plt.xlabel('Month')\n",
    "plt.ylabel('Number of Active Payments')\n",
    "plt.xticks(rotation=45)\n",
    "plt.show()"
   ]
  },
  {
   "cell_type": "code",
   "execution_count": 85,
   "id": "47d880dc-f591-4235-89a5-d50a11baaecc",
   "metadata": {},
   "outputs": [
    {
     "name": "stdout",
     "output_type": "stream",
     "text": [
      "User ID                        int64\n",
      "Join Date             datetime64[ns]\n",
      "Last Payment Date     datetime64[ns]\n",
      "Join Month                 period[M]\n",
      "Last Payment Month         period[M]\n",
      "Month                      period[M]\n",
      "dtype: object\n"
     ]
    }
   ],
   "source": [
    "# Convert Join Date and Last Payment Date to datetime\n",
    "disney_data['Join Date'] = pd.to_datetime(disney_data['Join Date'])\n",
    "disney_data['Last Payment Date'] = pd.to_datetime(disney_data['Last Payment Date'])\n",
    "\n",
    "# Verify the conversion\n",
    "print(disney_data.dtypes)"
   ]
  },
  {
   "cell_type": "code",
   "execution_count": 90,
   "id": "b68785ca-07ca-4b9a-8888-6fbd0dfefa35",
   "metadata": {},
   "outputs": [
    {
     "name": "stdout",
     "output_type": "stream",
     "text": [
      "   User ID  Join Date Last Payment Date Join Month Last Payment Month    Month\n",
      "0        1 2023-03-01        2024-03-08    2023-03            2024-03  2024-03\n",
      "1        2 2021-12-01        2023-01-18    2021-12            2023-01  2023-01\n",
      "2        3 2024-04-01        2024-05-28    2024-04            2024-05  2024-05\n",
      "3        4 2022-12-01        2023-11-06    2022-12            2023-11  2023-11\n",
      "4        5 2022-11-01        2023-09-17    2022-11            2023-09  2023-09\n"
     ]
    }
   ],
   "source": [
    "# Create month columns for Join Date and Last Payment Date\n",
    "disney_data['Month'] = disney_data['Join Date'].dt.to_period('M')\n",
    "disney_data['Month'] = disney_data['Last Payment Date'].dt.to_period('M')\n",
    "\n",
    "# Preview the updated DataFrame\n",
    "print(disney_data.head())"
   ]
  },
  {
   "cell_type": "code",
   "execution_count": 88,
   "id": "d612dee3-e720-43af-8e20-5526287b7fbf",
   "metadata": {},
   "outputs": [
    {
     "name": "stdout",
     "output_type": "stream",
     "text": [
      "     Month  New Subscriptions\n",
      "0  2021-08                  1\n",
      "1  2021-09                  3\n",
      "2  2021-10                  3\n",
      "3  2021-11                  9\n",
      "4  2021-12                  4\n"
     ]
    }
   ],
   "source": [
    "# Aggregate by Join Month\n",
    "join_monthly = disney_data.groupby('Month').size().reset_index(name='New Subscriptions')\n",
    "\n",
    "# Preview the join monthly data\n",
    "print(join_monthly.head())"
   ]
  },
  {
   "cell_type": "code",
   "execution_count": 91,
   "id": "c36c8ed1-26f1-43dd-9819-554dc2841c24",
   "metadata": {},
   "outputs": [
    {
     "name": "stdout",
     "output_type": "stream",
     "text": [
      "     Month  Active Payments\n",
      "0  2021-08                1\n",
      "1  2021-09                3\n",
      "2  2021-10                3\n",
      "3  2021-11                9\n",
      "4  2021-12                4\n"
     ]
    }
   ],
   "source": [
    "# Aggregate by Last Payment Month\n",
    "last_payment_monthly = disney_data.groupby('Month').size().reset_index(name='Active Payments')\n",
    "\n",
    "# Preview the last payment monthly data\n",
    "print(last_payment_monthly.head())"
   ]
  },
  {
   "cell_type": "code",
   "execution_count": 92,
   "id": "50655087-5b1b-4984-9043-2b7cef4d909d",
   "metadata": {},
   "outputs": [],
   "source": [
    "# Save Join Month data\n",
    "join_monthly.to_csv('disney_join_monthly.csv', index=False)\n",
    "\n",
    "# Save Last Payment Month data\n",
    "last_payment_monthly.to_csv('disney_last_payment_monthly.csv', index=False)"
   ]
  },
  {
   "cell_type": "markdown",
   "id": "5e127266-d52b-4d51-b8a7-ba6b5d76ff76",
   "metadata": {},
   "source": [
    "**COVID-19 Dataset Cleaning**"
   ]
  },
  {
   "cell_type": "code",
   "execution_count": 58,
   "id": "814bae7c-8a48-4131-baff-9f4719e04c98",
   "metadata": {},
   "outputs": [
    {
     "name": "stdout",
     "output_type": "stream",
     "text": [
      "  Date_Reported  Cumulative_Cases\n",
      "0    05/01/2020                 0\n",
      "1    12/01/2020                 0\n",
      "2    19/01/2020                 0\n",
      "3    26/01/2020                 0\n",
      "4    02/02/2020                 0\n"
     ]
    }
   ],
   "source": [
    "import pandas as pd\n",
    "\n",
    "# Load the dataset\n",
    "covid_data = pd.read_csv('covid19_cases.csv')\n",
    "\n",
    "# Preview the dataset\n",
    "print(covid_data.head())"
   ]
  },
  {
   "cell_type": "code",
   "execution_count": 59,
   "id": "8c1b11a7-d9ae-46df-9eea-a82355df5e96",
   "metadata": {},
   "outputs": [
    {
     "name": "stdout",
     "output_type": "stream",
     "text": [
      "Date_Reported       datetime64[ns]\n",
      "Cumulative_Cases             int64\n",
      "dtype: object\n"
     ]
    }
   ],
   "source": [
    "# If your date strings are in the format day/month/year (e.g., 19/01/2020), you can use the format parameter in pd.to_datetime and set dayfirst=True.\n",
    "covid_data['Date_Reported'] = pd.to_datetime(covid_data['Date_Reported'], format='%d/%m/%Y')\n",
    "\n",
    "# Convert Date_Reported to datetime\n",
    "covid_data['Date_Reported'] = pd.to_datetime(covid_data['Date_Reported'])\n",
    "\n",
    "# Check the data types\n",
    "print(covid_data.dtypes)"
   ]
  },
  {
   "cell_type": "code",
   "execution_count": 60,
   "id": "32160baf-bb07-4803-8113-b41b73e3c9a2",
   "metadata": {},
   "outputs": [
    {
     "name": "stdout",
     "output_type": "stream",
     "text": [
      "  Date_Reported  Cumulative_Cases    Month\n",
      "0    2020-01-05                 0  2020-01\n",
      "1    2020-01-12                 0  2020-01\n",
      "2    2020-01-19                 0  2020-01\n",
      "3    2020-01-26                 0  2020-01\n",
      "4    2020-02-02                 0  2020-02\n"
     ]
    }
   ],
   "source": [
    "# Create a Month column\n",
    "covid_data['Month'] = covid_data['Date_Reported'].dt.to_period('M')\n",
    "\n",
    "# Preview the updated DataFrame\n",
    "print(covid_data[['Date_Reported', 'Cumulative_Cases', 'Month']].head())"
   ]
  },
  {
   "cell_type": "code",
   "execution_count": 61,
   "id": "6f96faaa-fdac-4d82-b258-9d6b10164df2",
   "metadata": {},
   "outputs": [
    {
     "name": "stdout",
     "output_type": "stream",
     "text": [
      "      Date_Reported  Cumulative_Cases\n",
      "0        2020-01-05                 0\n",
      "21208    2020-01-05                 0\n",
      "20967    2020-01-05                 0\n",
      "20726    2020-01-05                 0\n",
      "20485    2020-01-05                 0\n"
     ]
    }
   ],
   "source": [
    "# Sort the data by Country and Date_Reported to calculate daily changes\n",
    "covid_data = covid_data.sort_values(by=['Date_Reported'])\n",
    "\n",
    "# Preview the data\n",
    "print(covid_data[['Date_Reported', 'Cumulative_Cases']].head())"
   ]
  },
  {
   "cell_type": "code",
   "execution_count": 62,
   "id": "76395523-5067-4005-842d-19ba75976285",
   "metadata": {},
   "outputs": [
    {
     "name": "stdout",
     "output_type": "stream",
     "text": [
      "     Month  Cumulative_Cases\n",
      "0  2020-01              2218\n",
      "1  2020-02            200503\n",
      "2  2020-03           1392350\n",
      "3  2020-04           7755061\n",
      "4  2020-05          22651322\n"
     ]
    }
   ],
   "source": [
    "# Step 5: Create a Month column\n",
    "covid_data['Month'] = covid_data['Date_Reported'].dt.to_period('M')  # Extract year-month period\n",
    "\n",
    "# Aggregate cumulative cases by month\n",
    "covid_monthly = covid_data.groupby('Month')['Cumulative_Cases'].sum().reset_index()\n",
    "\n",
    "# Preview the monthly aggregated dataset\n",
    "print(covid_monthly.head())"
   ]
  },
  {
   "cell_type": "code",
   "execution_count": 63,
   "id": "94c34e13-845f-40f5-9868-4a67d3a3e41e",
   "metadata": {},
   "outputs": [],
   "source": [
    "# Save the monthly cumulative cases to a separate CSV file\n",
    "covid_monthly.to_csv('covid_monthly_cases.csv', index=False)"
   ]
  },
  {
   "cell_type": "markdown",
   "id": "51f17d33-1530-40b0-91d0-4c9e103714d6",
   "metadata": {},
   "source": [
    "**Merging the Datasets**"
   ]
  },
  {
   "cell_type": "code",
   "execution_count": null,
   "id": "d67decc5-5a14-48a6-b749-329778c8313e",
   "metadata": {},
   "outputs": [],
   "source": [
    "# Load Disney+ join monthly data\n",
    "disney_month_data = pd.read_csv('disney_join_monthly.csv')\n",
    "\n",
    "# Load COVID-19 data\n",
    "covid_month_data = pd.read_csv('covid_monthly_cases.csv')\n",
    "\n",
    "# Preview the datasets\n",
    "print(disney_data.head())\n",
    "print(covid_data.head())"
   ]
  }
 ],
 "metadata": {
  "kernelspec": {
   "display_name": "Python 3 (ipykernel)",
   "language": "python",
   "name": "python3"
  },
  "language_info": {
   "codemirror_mode": {
    "name": "ipython",
    "version": 3
   },
   "file_extension": ".py",
   "mimetype": "text/x-python",
   "name": "python",
   "nbconvert_exporter": "python",
   "pygments_lexer": "ipython3",
   "version": "3.10.13"
  }
 },
 "nbformat": 4,
 "nbformat_minor": 5
}
